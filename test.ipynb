{
 "cells": [
  {
   "cell_type": "code",
   "execution_count": 1,
   "metadata": {},
   "outputs": [],
   "source": [
    "import speech_recognition as sr\n",
    "\n",
    "def recognize_speech_from_mic():\n",
    "    # Initialize the recognizer\n",
    "    r = sr.Recognizer()\n",
    "    \n",
    "    # Use the microphone as the audio source\n",
    "    with sr.Microphone() as source:\n",
    "        print(\"Adjusting for ambient noise. Please wait...\")\n",
    "        r.adjust_for_ambient_noise(source, duration=2)  # Longer duration for noise adjustment\n",
    "\n",
    "        print(\"Listening...\")\n",
    "        try:\n",
    "            # Adjust timeout and phrase limit based on your testing\n",
    "            audio = r.listen(source, timeout=10, phrase_time_limit=10)\n",
    "        except sr.WaitTimeoutError:\n",
    "            print(\"Listening timed out while waiting for phrase to start\")\n",
    "            return\n",
    "        \n",
    "    # Recognize speech using Google's free web API\n",
    "    try:\n",
    "        print(\"Recognizing...\")\n",
    "        text = r.recognize_google(audio)\n",
    "        print(f\"You said: {text}\")\n",
    "        return text\n",
    "    except sr.UnknownValueError:\n",
    "        print(\"Google Speech Recognition could not understand the audio\")\n",
    "    except sr.RequestError as e:\n",
    "        print(f\"Could not request results from Google Speech Recognition service; {e}\")\n",
    "    except Exception as e:\n",
    "        print(f\"An unexpected error occurred: {e}\")\n",
    "\n",
    "# Run the speech recognition function\n"
   ]
  },
  {
   "cell_type": "code",
   "execution_count": 2,
   "metadata": {},
   "outputs": [],
   "source": [
    "import subprocess\n",
    "\n",
    "def speak(text , voice='Samantha'):\n",
    "    try:\n",
    "        # Using subprocess.run to avoid shell-related issues\n",
    "        subprocess.run(['say', '-v', voice, text])\n",
    "        print(\"Command executed successfully!\")\n",
    "    except Exception as e:\n",
    "        print(f\"An error occurred: {e}\")\n",
    "\n",
    "# Example usage\n",
    "#speak(\"Good morning/afternoon, I'm [Your Name] and I'm here for the walk-in interview. I've been following [Company Name] for some time now and am very interested in the [Position Name] role.\")\n"
   ]
  },
  {
   "cell_type": "code",
   "execution_count": 3,
   "metadata": {},
   "outputs": [
    {
     "name": "stdout",
     "output_type": "stream",
     "text": [
      "Adjusting for ambient noise. Please wait...\n",
      "Listening...\n",
      "Recognizing...\n",
      "You said: hello efficient comment\n",
      "Response from API:\n",
      "{'candidates': [{'content': {'parts': [{'text': \"Hello! What can I do for you today? \\n\\nPlease give me some context. What are you working on? What kind of comment are you looking for? \\n\\nI can help you with:\\n\\n* **Code comments:** I can generate comments that explain what your code does, how it works, and any potential issues.\\n* **General comments:**  I can help you write clear and concise comments for any type of document or project. \\n* **Creative comments:** I can write interesting and engaging comments for social media or blogs.\\n\\nLet's get started! \\n\"}], 'role': 'model'}, 'finishReason': 'STOP', 'index': 0, 'safetyRatings': [{'category': 'HARM_CATEGORY_SEXUALLY_EXPLICIT', 'probability': 'NEGLIGIBLE'}, {'category': 'HARM_CATEGORY_HATE_SPEECH', 'probability': 'NEGLIGIBLE'}, {'category': 'HARM_CATEGORY_HARASSMENT', 'probability': 'NEGLIGIBLE'}, {'category': 'HARM_CATEGORY_DANGEROUS_CONTENT', 'probability': 'NEGLIGIBLE'}]}], 'usageMetadata': {'promptTokenCount': 3, 'candidatesTokenCount': 120, 'totalTokenCount': 123}}\n",
      "\n",
      "Extracted text value:\n",
      "Hello! What can I do for you today? \n",
      "\n",
      "Please give me some context. What are you working on? What kind of comment are you looking for? \n",
      "\n",
      "I can help you with:\n",
      "\n",
      "* **Code comments:** I can generate comments that explain what your code does, how it works, and any potential issues.\n",
      "* **General comments:**  I can help you write clear and concise comments for any type of document or project. \n",
      "* **Creative comments:** I can write interesting and engaging comments for social media or blogs.\n",
      "\n",
      "Let's get started! \n",
      "\n",
      "Command executed successfully!\n"
     ]
    }
   ],
   "source": [
    "import requests\n",
    "import json\n",
    "import os\n",
    "# inputtext = input(\"Enter the text you want to generate: \")\n",
    "# Replace with your actual API key\n",
    "inputtext=recognize_speech_from_mic()\n",
    "\n",
    "API_KEY = 'Use-your-gemini-API-key'\n",
    "URL = f'https://generativelanguage.googleapis.com/v1beta/models/gemini-1.5-flash-latest:generateContent?key={API_KEY}'\n",
    "\n",
    "# Data to be sent to the API\n",
    "data = {\n",
    "    \"contents\": [\n",
    "        {\n",
    "            \"parts\": [\n",
    "                {\"text\": f\"{inputtext}\"}\n",
    "            ]\n",
    "        }\n",
    "    ]\n",
    "}\n",
    "\n",
    "# Set the headers\n",
    "headers = {\n",
    "    'Content-Type': 'application/json'\n",
    "}\n",
    "\n",
    "response = requests.post(URL, headers=headers, data=json.dumps(data))\n",
    "\n",
    "# Check if the request was successful\n",
    "if response.status_code == 200:\n",
    "    response_data = response.json()\n",
    "    print(\"Response from API:\")\n",
    "    print(response_data)\n",
    "    \n",
    "    # Extracting the text value\n",
    "    if 'candidates' in response_data and len(response_data['candidates']) > 0:\n",
    "        text_value = response_data['candidates'][0]['content']['parts'][0]['text']\n",
    "        print(\"\\nExtracted text value:\")\n",
    "        print(text_value)\n",
    "        speak(text_value)\n",
    "    else:\n",
    "        print(\"No candidates found in the response.\")\n",
    "else:\n",
    "    print(f\"Failed to get response. Status code: {response.status_code}\")\n",
    "    print(\"Response text:\")\n",
    "    print(response.text)"
   ]
  },
  {
   "cell_type": "code",
   "execution_count": null,
   "metadata": {},
   "outputs": [
    {
     "name": "stdout",
     "output_type": "stream",
     "text": [
      "An error occurred: name 'objc' is not defined\n"
     ]
    }
   ],
   "source": [
    "import pyttsx3\n",
    "\n",
    "try:\n",
    "    engine = pyttsx3.init()\n",
    "    engine.say(\"Hello! I'm your first AI assistant.\")\n",
    "    engine.runAndWait()\n",
    "except Exception as e:\n",
    "    print(f\"An error occurred: {e}\")\n"
   ]
  },
  {
   "cell_type": "code",
   "execution_count": null,
   "metadata": {},
   "outputs": [
    {
     "data": {
      "text/plain": [
       "0"
      ]
     },
     "execution_count": 7,
     "metadata": {},
     "output_type": "execute_result"
    }
   ],
   "source": [
    "import os\n",
    "\n",
    "os.system('say \"Hello! I\\'m your first AI assistant.\"')"
   ]
  },
  {
   "cell_type": "code",
   "execution_count": null,
   "metadata": {},
   "outputs": [
    {
     "name": "stdout",
     "output_type": "stream",
     "text": [
      "Command executed successfully!\n"
     ]
    }
   ],
   "source": [
    "import subprocess\n",
    "\n",
    "def speak(text):\n",
    "    try:\n",
    "        # Using subprocess.run to avoid shell-related issues\n",
    "        subprocess.run(['say', text])\n",
    "        print(\"Command executed successfully!\")\n",
    "    except Exception as e:\n",
    "        print(f\"An error occurred: {e}\")\n",
    "\n",
    "# Example usage\n",
    "speak(\"Good morning/afternoon, I'm [Your Name] and I'm here for the walk-in interview. I've been following [Company Name] for some time now and am very interested in the [Position Name] role.\")\n"
   ]
  },
  {
   "cell_type": "code",
   "execution_count": null,
   "metadata": {},
   "outputs": [
    {
     "name": "stdout",
     "output_type": "stream",
     "text": [
      "Adjusting for ambient noise. Please wait...\n",
      "Listening...\n",
      "Recognizing...\n",
      "You said: hello sar\n"
     ]
    }
   ],
   "source": [
    "\n"
   ]
  },
  {
   "cell_type": "code",
   "execution_count": null,
   "metadata": {},
   "outputs": [],
   "source": []
  }
 ],
 "metadata": {
  "kernelspec": {
   "display_name": "Python 3",
   "language": "python",
   "name": "python3"
  },
  "language_info": {
   "codemirror_mode": {
    "name": "ipython",
    "version": 3
   },
   "file_extension": ".py",
   "mimetype": "text/x-python",
   "name": "python",
   "nbconvert_exporter": "python",
   "pygments_lexer": "ipython3",
   "version": "3.12.3"
  }
 },
 "nbformat": 4,
 "nbformat_minor": 2
}
